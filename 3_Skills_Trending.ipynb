{
 "cells": [
  {
   "cell_type": "code",
   "execution_count": null,
   "id": "819d1b09",
   "metadata": {},
   "outputs": [],
   "source": [
    "import pandas as pd, matplotlib.pyplot as plt, numpy as np\n",
    "import ast, seaborn as sns\n",
    "from adjustText import adjust_text\n",
    "from datetime import datetime as dt\n",
    "from matplotlib.ticker import FuncFormatter\n",
    "from datasets import load_dataset\n",
    "\n",
    "\n",
    "#setup\n",
    "dataset = load_dataset('lukebarousse/data_jobs')\n",
    "csv = dataset['train'].to_pandas()\n",
    "csv[\"job_posted_date\"] = pd.to_datetime(csv[\"job_posted_date\"])\n",
    "csv['job_skills'] = csv['job_skills'].apply(lambda x: ast.literal_eval(x) if pd.notna(x) else x)\n",
    "csv = csv[csv['job_country'] == 'United States'] #US jobs only\n"
   ]
  }
 ],
 "metadata": {
  "language_info": {
   "name": "python"
  }
 },
 "nbformat": 4,
 "nbformat_minor": 5
}
