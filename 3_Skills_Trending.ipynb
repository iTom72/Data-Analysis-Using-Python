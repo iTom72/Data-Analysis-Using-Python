{
 "cells": [
  {
   "cell_type": "code",
   "execution_count": 1,
   "id": "819d1b09",
   "metadata": {},
   "outputs": [],
   "source": [
    "import pandas as pd, matplotlib.pyplot as plt, numpy as np\n",
    "import ast, seaborn as sns\n",
    "from adjustText import adjust_text\n",
    "from datetime import datetime as dt\n",
    "from matplotlib.ticker import FuncFormatter\n",
    "from datasets import load_dataset\n",
    "\n",
    "\n",
    "#setup\n",
    "dataset = load_dataset('lukebarousse/data_jobs')\n",
    "csv = dataset['train'].to_pandas()\n",
    "csv[\"job_posted_date\"] = pd.to_datetime(csv[\"job_posted_date\"])\n",
    "csv['job_skills'] = csv['job_skills'].apply(lambda x: ast.literal_eval(x) if pd.notna(x) else x)\n",
    "csv = csv[csv['job_country'] == 'United States'] #US jobs only\n"
   ]
  }
 ],
 "metadata": {
  "kernelspec": {
   "display_name": "base",
   "language": "python",
   "name": "python3"
  },
  "language_info": {
   "codemirror_mode": {
    "name": "ipython",
    "version": 3
   },
   "file_extension": ".py",
   "mimetype": "text/x-python",
   "name": "python",
   "nbconvert_exporter": "python",
   "pygments_lexer": "ipython3",
   "version": "3.13.5"
  }
 },
 "nbformat": 4,
 "nbformat_minor": 5
}
